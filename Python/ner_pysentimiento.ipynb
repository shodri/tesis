{
 "cells": [
  {
   "cell_type": "code",
   "execution_count": 1,
   "metadata": {},
   "outputs": [
    {
     "name": "stderr",
     "output_type": "stream",
     "text": [
      "C:\\Users\\Rodrigo\\AppData\\Local\\Packages\\PythonSoftwareFoundation.Python.3.11_qbz5n2kfra8p0\\LocalCache\\local-packages\\Python311\\site-packages\\tqdm\\auto.py:21: TqdmWarning: IProgress not found. Please update jupyter and ipywidgets. See https://ipywidgets.readthedocs.io/en/stable/user_install.html\n",
      "  from .autonotebook import tqdm as notebook_tqdm\n",
      "C:\\Users\\Rodrigo\\AppData\\Local\\Packages\\PythonSoftwareFoundation.Python.3.11_qbz5n2kfra8p0\\LocalCache\\local-packages\\Python311\\site-packages\\accelerate\\accelerator.py:432: FutureWarning: Passing the following arguments to `Accelerator` is deprecated and will be removed in version 1.0 of Accelerate: dict_keys(['dispatch_batches', 'split_batches', 'even_batches', 'use_seedable_sampler']). Please pass an `accelerate.DataLoaderConfiguration` instead: \n",
      "dataloader_config = DataLoaderConfiguration(dispatch_batches=None, split_batches=False, even_batches=True, use_seedable_sampler=True)\n",
      "  warnings.warn(\n"
     ]
    }
   ],
   "source": [
    "from pysentimiento import create_analyzer\n",
    "from pysentimiento.preprocessing import preprocess_tweet\n",
    "import pandas as pd\n",
    "\n",
    "ner_analyzer = create_analyzer(\"ner\", lang=\"es\")\n",
    "\n",
    "df = pd.read_csv(\"comentarios.csv\")"
   ]
  },
  {
   "cell_type": "code",
   "execution_count": null,
   "metadata": {},
   "outputs": [],
   "source": [
    "resultados = df[\"post\"].apply(ner_analyzer.predict)\n",
    "\n",
    "# Si deseas almacenar los resultados en una nueva columna del DataFrame:\n",
    "df[\"resultados\"] = resultados\n",
    "\n",
    "# Si solo deseas imprimir los resultados:\n",
    "print(resultados)"
   ]
  },
  {
   "cell_type": "code",
   "execution_count": 4,
   "metadata": {},
   "outputs": [],
   "source": [
    "resultados_str = resultados.apply(str)\n",
    "df[\"resultados\"] = resultados_str"
   ]
  },
  {
   "cell_type": "code",
   "execution_count": null,
   "metadata": {},
   "outputs": [],
   "source": [
    "def dividir_resultados(resultado):\n",
    "    entidades = [entidad for entidad, _, _ in resultado.entities] if resultado.entities else []\n",
    "    tokens = resultado.tokens if resultado.tokens else []\n",
    "    labels = resultado.labels if resultado.labels else []\n",
    "    return pd.Series([entidades, tokens, labels])\n",
    "\n",
    "# Aplicar la función a cada fila y asignar los resultados a tres nuevas columnas\n",
    "df[['entidades', 'tokens', 'labels']] = resultados.apply(lambda x: dividir_resultados(x) if x else pd.Series([[], [], []]))"
   ]
  }
 ],
 "metadata": {
  "kernelspec": {
   "display_name": "Python 3",
   "language": "python",
   "name": "python3"
  },
  "language_info": {
   "codemirror_mode": {
    "name": "ipython",
    "version": 3
   },
   "file_extension": ".py",
   "mimetype": "text/x-python",
   "name": "python",
   "nbconvert_exporter": "python",
   "pygments_lexer": "ipython3",
   "version": "3.11.9"
  }
 },
 "nbformat": 4,
 "nbformat_minor": 2
}
