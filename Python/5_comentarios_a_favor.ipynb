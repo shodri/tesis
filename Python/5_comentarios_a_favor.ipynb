{
 "cells": [
  {
   "cell_type": "code",
   "execution_count": 24,
   "metadata": {},
   "outputs": [],
   "source": [
    "from pysentimiento import create_analyzer\n",
    "import pandas as pd\n",
    "import matplotlib.pyplot as plt\n",
    "from pysentimiento.preprocessing import preprocess_tweet\n",
    "import numpy as np\n",
    "\n",
    "df = pd.read_csv(\"comentarios.csv\")"
   ]
  },
  {
   "cell_type": "code",
   "execution_count": 3,
   "metadata": {},
   "outputs": [],
   "source": [
    "#A favor del proyecto\n",
    "titulo = 'usuarixs a favor del proyecto'\n",
    "df = df[df['Bando'] != 'C']\n",
    "df = df[df['Bando'] != 'N']"
   ]
  },
  {
   "cell_type": "code",
   "execution_count": 12,
   "metadata": {},
   "outputs": [],
   "source": [
    "#En contra del proyecto\n",
    "titulo = 'usuarixs en contra del proyecto'\n",
    "df = df[df['Bando'] != 'A']\n",
    "df = df[df['Bando'] != 'N']"
   ]
  },
  {
   "cell_type": "code",
   "execution_count": null,
   "metadata": {},
   "outputs": [],
   "source": [
    "#Neutrales\n",
    "titulo = 'usuarixs neutrales'\n",
    "df = df[df['Bando'] != 'A']\n",
    "df = df[df['Bando'] != 'C']"
   ]
  },
  {
   "cell_type": "code",
   "execution_count": 18,
   "metadata": {},
   "outputs": [],
   "source": [
    "#Masculinos\n",
    "titulo = 'usuarixs masculinos'\n",
    "df = df[df['Género'] != 'X']\n",
    "df = df[df['Género'] != 'F']"
   ]
  },
  {
   "cell_type": "code",
   "execution_count": 25,
   "metadata": {},
   "outputs": [],
   "source": [
    "#Femeninos\n",
    "titulo = 'usuarixs femeninos'\n",
    "\n",
    "df = df[df['Género'] != 'X']\n",
    "df = df[df['Género'] != 'M']\n"
   ]
  },
  {
   "cell_type": "code",
   "execution_count": null,
   "metadata": {},
   "outputs": [],
   "source": [
    "analyzer = create_analyzer(task=\"sentiment\", lang=\"es\")\n",
    "\n",
    "def aplicar_analyzer(texto):\n",
    "    resultado = analyzer.predict(texto)\n",
    "    return {\n",
    "        'POS': resultado.probas.get('POS', 0),  # Obtener la probabilidad de POS o 0 si no está presente\n",
    "        'NEU': resultado.probas.get('NEU', 0),  # Obtener la probabilidad de NEU o 0 si no está presente\n",
    "        'NEG': resultado.probas.get('NEG', 0)   # Obtener la probabilidad de NEG o 0 si no está presente\n",
    "    }\n",
    "\n",
    "def limpiar_comentario(comentario):\n",
    "    return preprocess_tweet(comentario, lang=\"es\")\n",
    "\n",
    "df['post_limpio'] = df['post'].apply(limpiar_comentario)\n",
    "\n",
    "df[['POS_proba', 'NEU_proba', 'NEG_proba']] = df['post_limpio'].apply(aplicar_analyzer).apply(pd.Series)"
   ]
  },
  {
   "cell_type": "code",
   "execution_count": null,
   "metadata": {},
   "outputs": [],
   "source": [
    "\n",
    "# Crear una nueva columna \"sentimiento\" con la clasificación para cada comentario\n",
    "df['sentimiento'] = df[['POS_proba', 'NEU_proba', 'NEG_proba']].apply(lambda x: np.argmax(x), axis=1)\n",
    "\n",
    "# Mapear los valores de índice a etiquetas de sentimiento (POS, NEU, NEG)\n",
    "sentimiento_map = {0: 'POS', 1: 'NEU', 2: 'NEG'}\n",
    "df['sentimiento'] = df['sentimiento'].map(sentimiento_map)\n",
    "plt.figure(figsize=(6, 4))\n",
    "df['sentimiento'].value_counts().loc[['POS', 'NEG', 'NEU']].plot(kind='bar', color=['green', 'red', 'grey'])\n",
    "plt.title('Polaridad de sentimiento predominante en '+ titulo)\n",
    "plt.xlabel('Sentimiento')\n",
    "plt.ylabel('Comentarios')\n",
    "plt.show()"
   ]
  },
  {
   "cell_type": "code",
   "execution_count": null,
   "metadata": {},
   "outputs": [],
   "source": [
    "# EMOCIONES\n",
    "def detectar_emociones(comentario):\n",
    "    resultado = emotion_analyzer.predict(comentario)\n",
    "    emocion = resultado.output\n",
    "    probabilidad = resultado.probas.get(emocion, 0)  # Obtener la probabilidad de la emoción predominante\n",
    "    return emocion, probabilidad\n",
    "\n",
    "emotion_analyzer = create_analyzer(task=\"emotion\", lang=\"es\")\n",
    "\n",
    "df[['emocion_predominante', 'probabilidad_emocion']] = df['post_limpio'].apply(detectar_emociones).apply(pd.Series)\n",
    "\n",
    "# Graficar un gráfico de barras de la frecuencia de cada emoción predominante\n",
    "plt.figure(figsize=(8, 6))\n",
    "df['emocion_predominante'].value_counts().plot(kind='bar', color='skyblue')\n",
    "plt.title('Frecuencia de emoción predominante en '+ titulo)\n",
    "plt.xlabel('Emoción')\n",
    "plt.ylabel('Frecuencia')\n",
    "plt.xticks(rotation=45)\n",
    "plt.show()"
   ]
  },
  {
   "cell_type": "code",
   "execution_count": null,
   "metadata": {},
   "outputs": [],
   "source": [
    "#DISCURSO DE ODIO\n",
    "hate_speech_analyzer = create_analyzer(task=\"hate_speech\", lang=\"es\")\n",
    "\n",
    "def detectar_discurso_odio(comentario):\n",
    "    resultado = hate_speech_analyzer.predict(comentario)\n",
    "    discurso_odio = resultado.output\n",
    "    probabilidad = max(resultado.probas.values())  # Obtener la probabilidad más alta entre todas las categorías\n",
    "    return discurso_odio, probabilidad\n",
    "\n",
    "df[['discurso_odio', 'probabilidad_discurso_odio']] = df['post_limpio'].apply(detectar_discurso_odio).apply(pd.Series)\n",
    "\n",
    "# Obtener la proporción de cada tipo de discurso de odio\n",
    "proporciones_discurso_odio = df['discurso_odio'].value_counts(normalize=True)\n",
    "\n",
    "# Graficar un gráfico de pastel de la proporción de cada tipo de discurso de odio\n",
    "plt.figure(figsize=(6, 6))\n",
    "proporciones_discurso_odio.plot(kind='pie', autopct='%1.1f%%', colors=['lightskyblue', 'lightcoral', 'coral', 'red'])\n",
    "plt.title('Proporción de cada tipo de discurso de odio en ' + titulo)\n",
    "plt.ylabel('')\n",
    "plt.show()"
   ]
  }
 ],
 "metadata": {
  "kernelspec": {
   "display_name": "Python 3",
   "language": "python",
   "name": "python3"
  },
  "language_info": {
   "codemirror_mode": {
    "name": "ipython",
    "version": 3
   },
   "file_extension": ".py",
   "mimetype": "text/x-python",
   "name": "python",
   "nbconvert_exporter": "python",
   "pygments_lexer": "ipython3",
   "version": "3.11.9"
  }
 },
 "nbformat": 4,
 "nbformat_minor": 2
}
